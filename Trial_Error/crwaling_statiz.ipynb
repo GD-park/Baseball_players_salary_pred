{
 "cells": [
  {
   "cell_type": "code",
   "execution_count": null,
   "metadata": {
    "collapsed": true
   },
   "outputs": [],
   "source": [
    "from bs4 import BeautifulSoup\n",
    "import requests\n",
    "import pandas as pd\n",
    "from collections import OrderedDict\n",
    "import re\n",
    "import xlsxwriter "
   ]
  },
  {
   "cell_type": "code",
   "execution_count": null,
   "metadata": {
    "collapsed": true
   },
   "outputs": [],
   "source": [
    "url = 'http://www.statiz.co.kr/stat.php?opt=0&sopt=0&re=0&ys=2016&ye=2016&se=0&te=sk&tm=&ty=0&qu=auto&po=0&as=&ae=&hi=&un=&pl=&da=1&o1=WAR_ALL&de=1&lr=0&tr=&cv=&ml=1&sn=30&si=&cn='\n",
    "res = requests.get(url)\n",
    "soup = BeautifulSoup(res.content)\n",
    "\n",
    "player_dict = OrderedDict()    #dict 형식으로 만들어 주어야지만 DataFrame을 만들수 있기 때문에 빈 dict를 만들어줌\n",
    "\n",
    "tr_list = soup.find_all('tr', {'class' : 'evenrow_stz0'})   #evenrow_stz0이라는 class에 tr태그를 찾음\n",
    "for tr in tr_list :\n",
    "    td_list = tr.find_all('td')         #tr태크 안에 있는 td태그 모두 찾기\n",
    "    if td_list[4].get_text() == 'P':    #picture(투수) 하고 타자를 나누어서 되어 있기 때문에 picture가 있으면 td태그를 찾지 않음\n",
    "        continue\n",
    "    \n",
    "    name = td_list[1].get_text()     #td태크안에 제일처음에 있는 것을 dict의 key로 만들어줌\n",
    "    player_dict[name] = []    #빈 dict를 만들고\n",
    "    \n",
    "    for td in td_list[2:] :     \n",
    "        player_dict[name].append(td.get_text())   # 그 dict안에 이름을 제외한 모든것을 담음\n",
    "       \n",
    "tr_list = soup.find_all('tr', {'class' : 'oddrow_stz0'})    #위에하고 똑같은 형식임 다만 사이트에서 class를 이렇게 2개로 구현해놓았기때문에 이렇게 만든거임\n",
    "for tr in tr_list :\n",
    "    td_list = tr.find_all('td')\n",
    "    if td_list[4].get_text() == 'P':\n",
    "        continue\n",
    "    \n",
    "    name = td_list[1].get_text()\n",
    "    player_dict[name] = []\n",
    "    \n",
    "    for td in td_list[2:] :\n",
    "        player_dict[name].append(td.get_text())"
   ]
  }
 ],
 "metadata": {
  "kernelspec": {
   "display_name": "Python 2",
   "language": "python",
   "name": "python2"
  },
  "language_info": {
   "codemirror_mode": {
    "name": "ipython",
    "version": 2
   },
   "file_extension": ".py",
   "mimetype": "text/x-python",
   "name": "python",
   "nbconvert_exporter": "python",
   "pygments_lexer": "ipython2",
   "version": "2.7.13"
  }
 },
 "nbformat": 4,
 "nbformat_minor": 2
}
